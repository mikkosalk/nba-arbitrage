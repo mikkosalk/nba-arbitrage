{
  "nbformat": 4,
  "nbformat_minor": 0,
  "metadata": {
    "colab": {
      "name": "arbitragebetting.ipynb",
      "provenance": [],
      "collapsed_sections": []
    },
    "kernelspec": {
      "name": "python3",
      "display_name": "Python 3"
    },
    "language_info": {
      "name": "python"
    }
  },
  "cells": [
    {
      "cell_type": "markdown",
      "source": [
        "Site Scraper"
      ],
      "metadata": {
        "id": "Um5qEdELJj70"
      }
    },
    {
      "cell_type": "code",
      "execution_count": null,
      "metadata": {
        "colab": {
          "base_uri": "https://localhost:8080/"
        },
        "id": "Cnv0Oh1PJ7wa",
        "outputId": "9eb3c1eb-ca93-446b-c76e-d287304b9b93"
      },
      "outputs": [
        {
          "output_type": "stream",
          "name": "stdout",
          "text": [
            "Empty DataFrame\n",
            "Columns: [Team 1, Team 2, T1 Odds, T2 Odds]\n",
            "Index: []\n",
            "Empty DataFrame\n",
            "Columns: [Team 1, Team 2, T1 Odds, T2 Odds]\n",
            "Index: []\n"
          ]
        }
      ],
      "source": [
        "import requests\n",
        "import urllib.request\n",
        "from urllib.request import Request, urlopen\n",
        "import pandas as pd\n",
        "import re\n",
        "from bs4 import BeautifulSoup\n",
        "\n",
        "abbrev_names = {'AtlantaHawks': 'ATL', 'ATLHawks': 'ATL', 'BostonCeltics': 'BOS', 'BOSCeltics': 'BOS',\n",
        "     'BrooklynNets': 'BKN', 'BKNNets': 'BKN', 'CharlotteHornets': 'CHA', 'CHAHornets': 'CHA',\n",
        "     'ChicagoBulls': 'CHI', 'CHIBulls': 'CHI', 'DallasMavericks': 'DAL', 'DALMavericks': 'DAL',\n",
        "     'DenverNuggets': 'DEN', 'DENNuggets': 'DEN', 'DetroitPistons': 'DET', 'DETPistons': 'DET',\n",
        "     'GoldenStateWarriors': 'GSW', 'GSWWarriors': 'GSW', 'GSWarriors': 'GSW', 'HoustonRockets': 'HOU', 'HOURockets': 'HOU',\n",
        "     'IndianaPacers': 'IND', 'INDPacers': 'IND', 'LosAngelesClippers': 'LAC', 'LAClippers': 'LAC',\n",
        "     'LosAngelesLakers': 'LAL', 'LALakers': 'LAL', 'MemphisGrizzlies': 'MEM', 'MEMGrizzlies': 'MEM',\n",
        "     'MiamiHeat': 'MIA', 'MIAHeat': 'MIA', 'MilwaukeeBucks': 'MIL', 'MILBucks': 'MIL', \n",
        "     'MinnesotaTimberwolves': 'MIN', 'MINTimberwolves': 'MIN', 'NewOrleansPelicans': 'NOP',\n",
        "     'NOPelicans': 'NOP', 'NewYorkKnicks': 'NYK', 'NYKnicks': 'NYK', 'OklahomaCityThunder': 'OKC',\n",
        "     'OKCThunder': 'OKC', 'OrlandoMagic': 'ORL', 'ORLMagic': 'ORL', 'Philadelphia76ers': 'PHI',\n",
        "     'PHI76ers': 'PHI', 'PhoenixSuns': 'PHX', 'PHXSuns': 'PHX', 'PHOSuns': 'PHX', 'PortlandTrailBlazers': 'POR',\n",
        "     'PORTrailBlazers': 'POR', 'SacramentoKings': 'SAC', 'SACKings': 'SAC', 'SanAntonioSpurs': 'SAS',\n",
        "     'SASpurs': 'SAS', 'TorontoRaptors': 'TOR', 'TORRaptors': 'TOR', 'UtahJazz': 'UTA', 'UTJazz': 'UTA',\n",
        "     'WashingtonWizards': 'WAS', 'WASWizards': 'WAS'}\n",
        "\n",
        "#bookie websites\n",
        "URL = 'https://www.sportsbetting.ag/sportsbook/basketball/nba'\n",
        "URL1 = 'https://sportsbook.draftkings.com/leagues/basketball/88670846'\n",
        "\n",
        "#fake header to get data from site \n",
        "hdr = {'User-Agent': 'Mozilla/5.0'}\n",
        "req = Request(URL,headers=hdr)\n",
        "page = urlopen(req)\n",
        "\n",
        "req1 = Request(URL1,headers=hdr)\n",
        "page1 = urlopen(req1)\n",
        "\n",
        "#HTML source\n",
        "soup = BeautifulSoup(page, features=\"html.parser\")\n",
        "soup1 = BeautifulSoup(page1, features=\"html.parser\")\n",
        "#print(soup2.prettify())\n",
        "\n",
        "#scrape data\n",
        "teamsHTML = soup.find_all('td', attrs={'class': 'col_teamname bdevtt'})\n",
        "oddsHTML = soup.find_all('td', attrs={'class': 'odds bdevtt moneylineodds displayOdds'})\n",
        "\n",
        "teamsHTML1 = soup1.find_all('div', attrs={'class': 'event-cell__name-text'})\n",
        "oddsHTML1 = soup1.find_all('span', attrs={'class': 'sportsbook-odds american no-margin default-color'})\n",
        "\n",
        "teams = []\n",
        "odds = []\n",
        "teams1 = []\n",
        "odds1 = []\n",
        "\n",
        "#american odds to decimal odds\n",
        "def dec_odds(odd):\n",
        "  res = []\n",
        "  for k in range(len(odd)):\n",
        "    if(int(odd[k])>=0):\n",
        "      res.append(int(odd[k])/100+1)\n",
        "    else:\n",
        "      res.append(1-(100/int(odd[k])))\n",
        "  return res\n",
        "\n",
        "#clean team names data\n",
        "def clean_teams(ht):\n",
        "  res = []\n",
        "  for h in ht:\n",
        "    res.append(abbrev_names[h.getText().replace('\\n','').replace('\\t','').replace(' ','')])\n",
        "  return res\n",
        "\n",
        "#clean odds data\n",
        "def clean_odds(odd):\n",
        "  res = []\n",
        "  for o in odd:\n",
        "    res.append(o.getText().replace('\\n','').replace('\\t',''))\n",
        "  return res\n",
        "\n",
        "teams = clean_teams(teamsHTML)\n",
        "odds = clean_odds(oddsHTML)\n",
        "teams1 = clean_teams(teamsHTML1)\n",
        "odds1 = clean_odds(oddsHTML1)\n",
        "\n",
        "#compile data from one site into dataframe\n",
        "def site_data(t, o):\n",
        "  rows = []\n",
        "  for i in range(0,len(t), 2):\n",
        "    row = []\n",
        "    row.append(t[i])\n",
        "    row.append(t[i+1])\n",
        "    row.append(o[i])\n",
        "    row.append(o[i+1])\n",
        "    rows.append(row)\n",
        "  return pd.DataFrame(columns=['Team 1', 'Team 2', 'T1 Odds', 'T2 Odds'], data=rows)\n",
        "\n",
        "odds = dec_odds(odds)\n",
        "odds1 = dec_odds(odds1)\n",
        "\n",
        "df = site_data(teams, odds)\n",
        "df1 = site_data(teams1, odds1)\n",
        "print(df)\n",
        "print(df1)\n",
        "\n"
      ]
    },
    {
      "cell_type": "markdown",
      "source": [
        "Arbitrage Calculation"
      ],
      "metadata": {
        "id": "IXgcgJ07Jox5"
      }
    },
    {
      "cell_type": "code",
      "source": [
        "import pandas as pd\n",
        "\n",
        "#data\n",
        "site1_data = [['Memphis Grizzlies', 'Golden State Warriors', 3.95, 1.274], ['Denver Nuggets', 'Philadelphia 76ers', 1.6, 1.9]]\n",
        "site2_data = [['Memphis Grizzlies', 'Golden State Warriors', 1.5, 2.8], ['Denver Nuggets', 'Philadelphia 76ers', 1.4, 2.5]]\n",
        "s1 = pd.DataFrame(columns=['Team 1', 'Team 2', 'T1 Odds', 'T2 Odds'], data=site1_data)\n",
        "s2 = pd.DataFrame(columns=['Team 1', 'Team 2', 'T1 Odds', 'T2 Odds'], data=site2_data)\n",
        "data = [s1, s2]\n",
        "\n",
        "#function to find arbitrage possibility for all games\n",
        "def arb(l):\n",
        "  res = []\n",
        "  if not l:\n",
        "    return\n",
        "  num_of_games = len(l[0])\n",
        "  for i in range(num_of_games):\n",
        "    res.append(arb_game(l, i))\n",
        "  return res\n",
        "\n",
        "#helper function for a single game\n",
        "def arb_game(l, game):\n",
        "  res = \"\"\n",
        "  team1_odds = []\n",
        "  team1max = (float('-inf'), -1)\n",
        "  team2_odds = []\n",
        "  team2max = (float('-inf'), -1)\n",
        "  for i in range(len(l)):\n",
        "    if l[i].iloc[game][2] > team1max[0]:\n",
        "      team1max = (l[i].iloc[game][2], i)\n",
        "    if l[i].iloc[game][3] > team2max[0]:\n",
        "      team2max = (l[i].iloc[game][3], i)\n",
        "  arbit = 100*(1/team1max[0]+1/team2max[0])\n",
        "  res = res + 'The best possible arbitrage % for '+ l[i].iloc[game][0]+ ' vs '+ l[i].iloc[game][1]+' is '+ str(arbit)+ '%\\n'\n",
        "  if arbit < 100:\n",
        "    res = res + 'There is an arbitrage opportunity by betting on '+ l[i].iloc[game][0]+ ' on site '+ str(team1max[1])+ ' and '+ l[i].iloc[game][0]+ ' on site '+ str(team2max[1])+ '\\n'\n",
        "  elif arbit >=0:\n",
        "    res = res + 'There is no arbitrage opportunity for '+ l[i].iloc[game][0]+ ' vs '+ l[i].iloc[game][1]+ ' ¯\\_(ツ)_/¯\\n'\n",
        "  return res\n",
        "\n",
        "for s in arb(data):\n",
        "  print(s)\n",
        "  \n"
      ],
      "metadata": {
        "id": "OOtyZWBRJV-_",
        "colab": {
          "base_uri": "https://localhost:8080/"
        },
        "outputId": "0e935fd9-e4e3-44b6-d9a4-13e8cd436a07"
      },
      "execution_count": null,
      "outputs": [
        {
          "output_type": "stream",
          "name": "stdout",
          "text": [
            "The best possible arbitrage % for Memphis Grizzlies vs Golden State Warriors is 61.03074141048824%\n",
            "There is an arbitrage opportunity by betting on Memphis Grizzlies on site 0 and Memphis Grizzlies on site 1\n",
            "\n",
            "The best possible arbitrage % for Denver Nuggets vs Philadelphia 76ers is 102.49999999999999%\n",
            "There is no arbitrage opportunity for Denver Nuggets vs Philadelphia 76ers ¯\\_(ツ)_/¯\n",
            "\n"
          ]
        }
      ]
    }
  ]
}